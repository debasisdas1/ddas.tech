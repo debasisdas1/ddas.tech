{
 "cells": [
  {
   "cell_type": "code",
   "execution_count": 2,
   "id": "4248bb65",
   "metadata": {},
   "outputs": [
    {
     "name": "stdout",
     "output_type": "stream",
     "text": [
      "<pyspark.sql.session.SparkSession object at 0x7fa918e781c0>\n"
     ]
    }
   ],
   "source": [
    "import findspark\n",
    "findspark.init()\n",
    "   \n",
    "import pyspark\n",
    "from pyspark.sql import SparkSession\n",
    "from pyspark import SparkConf\n",
    "from pyspark.sql.types import StructType, StructField, DateType, StringType, IntegerType\n",
    "from pyspark.sql.functions import expr\n",
    " \n",
    "conf = SparkConf().setMaster(\"local[3]\").setAppName(\"SparkDataFrameGroupBy\")\n",
    "spark = SparkSession.builder.config(conf=conf).getOrCreate()\n",
    "spark.sparkContext.setLogLevel(\"WARN\")\n",
    "print(spark)"
   ]
  },
  {
   "cell_type": "code",
   "execution_count": 60,
   "id": "cc32b76c",
   "metadata": {},
   "outputs": [
    {
     "name": "stdout",
     "output_type": "stream",
     "text": [
      "  country              car    week  units_sales used_new  price_per_unit\n",
      "0  Canada    Jeep Cherokee  Week_2            5      New           37177\n",
      "1     USA           BMW X7  Week_3            1      New           27322\n",
      "2  Canada    Ford Explorer  Week_1            1     Used           35826\n",
      "3     USA    Jeep Cherokee  Week_4           12      New           24610\n",
      "4  Canada    Ford Explorer  Week_1            0      New           35688\n",
      "5  Mexico  Ford Expedition  Week_1           17      New           51116\n",
      "6     USA    Jeep Cherokee  Week_4            6      New           44375\n",
      "7  Canada           BMW X7  Week_2            5     Used           23811\n",
      "8     USA    Ford Explorer  Week_1            5     Used           27027\n",
      "9  Canada           BMW X7  Week_4           15     Used           51215\n",
      "(96, 6)\n"
     ]
    }
   ],
   "source": [
    "import pandas as pd\n",
    "import numpy as np\n",
    "\n",
    "countries = [\"USA\",\"Mexico\",\"Brazil\",\"Canada\"]\n",
    "cars = [\"BMW X5\",\"BMW X7\",\"Ford Explorer\",\"Ford Expedition\",\"Jeep Wrangler\",\"Jeep Cherokee\"]\n",
    "weeks = []\n",
    "for i in range(1,5):\n",
    "    weeks.append(f\"Week_{i}\")\n",
    "    \n",
    "num_records = 96\n",
    "df = pd.DataFrame({\"country\":np.random.choice(countries,num_records),\n",
    "                   \"car\":np.random.choice(cars,num_records),\n",
    "                   \"week\":np.random.choice(weeks,num_records),\n",
    "                   \"units_sales\":np.random.randint(20,size = num_records),\n",
    "                   \"used_new\":np.random.choice([\"Used\",\"New\"],num_records),\n",
    "                   \"price_per_unit\":np.random.randint(low = 20000, high = 55000,size = num_records)\n",
    "                  })\n",
    "print(df.head(10))\n",
    "print(df.shape)"
   ]
  },
  {
   "cell_type": "code",
   "execution_count": 61,
   "id": "2b50aad3",
   "metadata": {},
   "outputs": [
    {
     "name": "stdout",
     "output_type": "stream",
     "text": [
      "root\n",
      " |-- country: string (nullable = true)\n",
      " |-- car: string (nullable = true)\n",
      " |-- week: string (nullable = true)\n",
      " |-- units_sales: long (nullable = true)\n",
      " |-- used_new: string (nullable = true)\n",
      " |-- price_per_unit: long (nullable = true)\n",
      "\n",
      "+-------+---------------+------+-----------+--------+--------------+\n",
      "|country|            car|  week|units_sales|used_new|price_per_unit|\n",
      "+-------+---------------+------+-----------+--------+--------------+\n",
      "| Canada|  Jeep Cherokee|Week_2|          5|     New|         37177|\n",
      "|    USA|         BMW X7|Week_3|          1|     New|         27322|\n",
      "| Canada|  Ford Explorer|Week_1|          1|    Used|         35826|\n",
      "|    USA|  Jeep Cherokee|Week_4|         12|     New|         24610|\n",
      "| Canada|  Ford Explorer|Week_1|          0|     New|         35688|\n",
      "| Mexico|Ford Expedition|Week_1|         17|     New|         51116|\n",
      "|    USA|  Jeep Cherokee|Week_4|          6|     New|         44375|\n",
      "| Canada|         BMW X7|Week_2|          5|    Used|         23811|\n",
      "|    USA|  Ford Explorer|Week_1|          5|    Used|         27027|\n",
      "| Canada|         BMW X7|Week_4|         15|    Used|         51215|\n",
      "+-------+---------------+------+-----------+--------+--------------+\n",
      "only showing top 10 rows\n",
      "\n"
     ]
    }
   ],
   "source": [
    "sparkDF=spark.createDataFrame(df) \n",
    "sparkDF.printSchema()\n",
    "sparkDF.show(10)"
   ]
  },
  {
   "cell_type": "code",
   "execution_count": 62,
   "id": "31d0ef8c",
   "metadata": {},
   "outputs": [
    {
     "name": "stdout",
     "output_type": "stream",
     "text": [
      "+-------+---------------+------+-----------+--------+--------------+-------+\n",
      "|country|            car|  week|units_sales|used_new|price_per_unit|revenue|\n",
      "+-------+---------------+------+-----------+--------+--------------+-------+\n",
      "| Canada|  Jeep Cherokee|Week_2|          5|     New|         37177| 185885|\n",
      "|    USA|         BMW X7|Week_3|          1|     New|         27322|  27322|\n",
      "| Canada|  Ford Explorer|Week_1|          1|    Used|         35826|  35826|\n",
      "|    USA|  Jeep Cherokee|Week_4|         12|     New|         24610| 295320|\n",
      "| Canada|  Ford Explorer|Week_1|          0|     New|         35688|      0|\n",
      "| Mexico|Ford Expedition|Week_1|         17|     New|         51116| 868972|\n",
      "|    USA|  Jeep Cherokee|Week_4|          6|     New|         44375| 266250|\n",
      "| Canada|         BMW X7|Week_2|          5|    Used|         23811| 119055|\n",
      "|    USA|  Ford Explorer|Week_1|          5|    Used|         27027| 135135|\n",
      "| Canada|         BMW X7|Week_4|         15|    Used|         51215| 768225|\n",
      "+-------+---------------+------+-----------+--------+--------------+-------+\n",
      "only showing top 10 rows\n",
      "\n"
     ]
    }
   ],
   "source": [
    "# Lets add a new Revenue Column\n",
    "df1 = sparkDF.withColumn('revenue', (sparkDF.units_sales * sparkDF.price_per_unit))\n",
    "df1.show(10)"
   ]
  },
  {
   "cell_type": "code",
   "execution_count": 71,
   "id": "4c9c7d3a",
   "metadata": {},
   "outputs": [
    {
     "name": "stdout",
     "output_type": "stream",
     "text": [
      "+-------+------------+\n",
      "|country|sum(revenue)|\n",
      "+-------+------------+\n",
      "|    USA|     6249630|\n",
      "| Mexico|     9239064|\n",
      "| Canada|    11064790|\n",
      "| Brazil|     7088142|\n",
      "+-------+------------+\n",
      "\n"
     ]
    }
   ],
   "source": [
    "revenueByCountry = df1.groupBy(\"country\").sum(\"revenue\")\n",
    "revenueByCountry.show()"
   ]
  },
  {
   "cell_type": "code",
   "execution_count": 70,
   "id": "e18991fb",
   "metadata": {},
   "outputs": [
    {
     "name": "stdout",
     "output_type": "stream",
     "text": [
      "+-------+------------+\n",
      "|country|sum(revenue)|\n",
      "+-------+------------+\n",
      "|    USA|     6249630|\n",
      "| Brazil|     7088142|\n",
      "| Mexico|     9239064|\n",
      "| Canada|    11064790|\n",
      "+-------+------------+\n",
      "\n"
     ]
    }
   ],
   "source": [
    "revenueByCountry.sort(\"sum(revenue)\").show()"
   ]
  },
  {
   "cell_type": "code",
   "execution_count": 72,
   "id": "7215f9cb",
   "metadata": {},
   "outputs": [
    {
     "name": "stdout",
     "output_type": "stream",
     "text": [
      "+-------+------------+\n",
      "|country|sum(revenue)|\n",
      "+-------+------------+\n",
      "| Canada|    11064790|\n",
      "| Mexico|     9239064|\n",
      "| Brazil|     7088142|\n",
      "|    USA|     6249630|\n",
      "+-------+------------+\n",
      "\n"
     ]
    }
   ],
   "source": [
    "revenueByCountry.sort(\"sum(revenue)\",ascending=False).show()"
   ]
  },
  {
   "cell_type": "code",
   "execution_count": 64,
   "id": "f4fb3848",
   "metadata": {},
   "outputs": [
    {
     "name": "stdout",
     "output_type": "stream",
     "text": [
      "+-------+---------------+------------+\n",
      "|country|            car|sum(revenue)|\n",
      "+-------+---------------+------------+\n",
      "| Brazil|         BMW X5|      231160|\n",
      "| Brazil|         BMW X7|      540211|\n",
      "| Brazil|Ford Expedition|      714889|\n",
      "| Brazil|  Ford Explorer|     2654641|\n",
      "| Brazil|  Jeep Cherokee|      157801|\n",
      "| Brazil|  Jeep Wrangler|     2789440|\n",
      "| Canada|         BMW X5|     1241302|\n",
      "| Canada|         BMW X7|     3322440|\n",
      "| Canada|Ford Expedition|     2025161|\n",
      "| Canada|  Ford Explorer|     1321340|\n",
      "| Canada|  Jeep Cherokee|     2411229|\n",
      "| Canada|  Jeep Wrangler|      743318|\n",
      "| Mexico|         BMW X5|     1135589|\n",
      "| Mexico|         BMW X7|     1816172|\n",
      "| Mexico|Ford Expedition|     2205278|\n",
      "| Mexico|  Ford Explorer|      686194|\n",
      "| Mexico|  Jeep Cherokee|     1632978|\n",
      "| Mexico|  Jeep Wrangler|     1762853|\n",
      "|    USA|         BMW X5|      643776|\n",
      "|    USA|         BMW X7|      838552|\n",
      "+-------+---------------+------------+\n",
      "only showing top 20 rows\n",
      "\n"
     ]
    }
   ],
   "source": [
    "revenueByCountryCar = df1.groupBy(\"country\",\"car\").sum(\"revenue\").orderBy(\"country\",\"car\")\n",
    "revenueByCountryCar.show()"
   ]
  },
  {
   "cell_type": "code",
   "execution_count": 65,
   "id": "a3a730d2",
   "metadata": {},
   "outputs": [
    {
     "name": "stdout",
     "output_type": "stream",
     "text": [
      "+-------+-----+\n",
      "|country|count|\n",
      "+-------+-----+\n",
      "|    USA|   21|\n",
      "| Mexico|   26|\n",
      "| Canada|   28|\n",
      "| Brazil|   21|\n",
      "+-------+-----+\n",
      "\n"
     ]
    }
   ],
   "source": [
    "countByCountry = df1.groupBy(\"country\").count()\n",
    "countByCountry.show()"
   ]
  },
  {
   "cell_type": "code",
   "execution_count": 66,
   "id": "8829b248",
   "metadata": {},
   "outputs": [
    {
     "name": "stdout",
     "output_type": "stream",
     "text": [
      "+-------+--------+-----------+-----------+-----------------+-----------------+---------+\n",
      "|country|tot_unit|min_unit_sl|max_unit_sl|      avg_unit_sl|        avg_price|total_rev|\n",
      "+-------+--------+-----------+-----------+-----------------+-----------------+---------+\n",
      "|    USA|     171|          0|         17|8.142857142857142|36700.71428571428|  6249630|\n",
      "| Mexico|     255|          0|         19|9.807692307692308|          33909.0|  9239064|\n",
      "| Canada|     272|          0|         19|9.714285714285714|39565.96428571428| 11064790|\n",
      "| Brazil|     185|          0|         19| 8.80952380952381|39308.80952380953|  7088142|\n",
      "+-------+--------+-----------+-----------+-----------------+-----------------+---------+\n",
      "\n"
     ]
    }
   ],
   "source": [
    "\n",
    "from pyspark.sql.functions import *\n",
    "salesAggregate = df1.groupBy(\"country\").agg(\n",
    "    sum(\"units_sales\").alias(\"tot_unit\"),\n",
    "    min(\"units_sales\").alias(\"min_unit_sl\"),\n",
    "    max(\"units_sales\").alias(\"max_unit_sl\"),\n",
    "    avg(\"units_sales\").alias(\"avg_unit_sl\"),\n",
    "    avg(\"price_per_unit\").alias(\"avg_price\"),\n",
    "    sum(\"revenue\").alias(\"total_rev\")\n",
    "    \n",
    "    \n",
    ")\n",
    "salesAggregate.show()"
   ]
  },
  {
   "cell_type": "code",
   "execution_count": 95,
   "id": "311f7628",
   "metadata": {},
   "outputs": [
    {
     "name": "stdout",
     "output_type": "stream",
     "text": [
      "+-------+---------------+------------+----------------+\n",
      "|country|            car|sum(revenue)|sum(units_sales)|\n",
      "+-------+---------------+------------+----------------+\n",
      "|    USA|  Jeep Wrangler|      881345|              29|\n",
      "| Mexico|  Ford Explorer|      686194|              16|\n",
      "| Mexico|  Jeep Cherokee|     1632978|              47|\n",
      "| Canada|  Ford Explorer|     1321340|              26|\n",
      "|    USA|  Jeep Cherokee|      981436|              35|\n",
      "|    USA|  Ford Explorer|     1870958|              51|\n",
      "| Canada|Ford Expedition|     2025161|              43|\n",
      "|    USA|         BMW X7|      838552|              16|\n",
      "| Canada|         BMW X7|     3322440|              72|\n",
      "| Brazil|         BMW X5|      231160|               6|\n",
      "| Mexico|         BMW X5|     1135589|              38|\n",
      "| Mexico|  Jeep Wrangler|     1762853|              53|\n",
      "| Brazil|         BMW X7|      540211|              14|\n",
      "| Canada|  Jeep Cherokee|     2411229|              62|\n",
      "| Mexico|Ford Expedition|     2205278|              52|\n",
      "| Mexico|         BMW X7|     1816172|              49|\n",
      "| Brazil|  Ford Explorer|     2654641|              69|\n",
      "|    USA|         BMW X5|      643776|              21|\n",
      "| Brazil|  Jeep Wrangler|     2789440|              74|\n",
      "|    USA|Ford Expedition|     1033563|              19|\n",
      "+-------+---------------+------------+----------------+\n",
      "only showing top 20 rows\n",
      "\n"
     ]
    }
   ],
   "source": [
    "salesdf1Agg = df1.groupBy(\"country\",\"car\").agg(\n",
    "    {\"revenue\":\"sum\",\n",
    "     \"units_sales\":\"sum\"}\n",
    ")\n",
    "salesdf1Agg.show()"
   ]
  },
  {
   "cell_type": "code",
   "execution_count": 92,
   "id": "3428a2f3",
   "metadata": {},
   "outputs": [
    {
     "name": "stdout",
     "output_type": "stream",
     "text": [
      "+-------+---------------+-------------------+-------------------+-------------------+\n",
      "|country|            car|min(price_per_unit)|max(price_per_unit)|avg(price_per_unit)|\n",
      "+-------+---------------+-------------------+-------------------+-------------------+\n",
      "| Brazil|         BMW X5|              25724|              44928|            35326.0|\n",
      "| Brazil|         BMW X7|              37562|              39169| 38450.333333333336|\n",
      "| Brazil|Ford Expedition|              34072|              53829|            45813.5|\n",
      "| Brazil|  Ford Explorer|              27342|              54949| 40275.166666666664|\n",
      "| Brazil|  Jeep Cherokee|              22543|              22543|            22543.0|\n",
      "| Brazil|  Jeep Wrangler|              21461|              51734|            38406.8|\n",
      "| Canada|         BMW X5|              21940|              44953|           32668.75|\n",
      "| Canada|         BMW X7|              23811|              53185|          43570.375|\n",
      "| Canada|Ford Expedition|              43727|              52817|            46907.0|\n",
      "| Canada|  Ford Explorer|              32027|              54644|            42056.4|\n",
      "| Canada|  Jeep Cherokee|              20548|              53895| 36829.666666666664|\n",
      "| Canada|  Jeep Wrangler|              24737|              31891|            28314.0|\n",
      "| Mexico|         BMW X5|              24251|              39361|           29100.25|\n",
      "| Mexico|         BMW X7|              20813|              46813|            33523.5|\n",
      "| Mexico|Ford Expedition|              23018|              51116|            38077.8|\n",
      "| Mexico|  Ford Explorer|              42064|              44259|            43161.5|\n",
      "| Mexico|  Jeep Cherokee|              25800|              41280|            33158.0|\n",
      "| Mexico|  Jeep Wrangler|              24948|              41911|            30949.6|\n",
      "|    USA|         BMW X5|              22054|              32680|            27367.0|\n",
      "|    USA|         BMW X7|              27322|              54082|            40702.0|\n",
      "+-------+---------------+-------------------+-------------------+-------------------+\n",
      "only showing top 20 rows\n",
      "\n"
     ]
    }
   ],
   "source": [
    "salesdf2Agg = df1.groupBy(\"country\",\"car\").agg(\n",
    "    min('price_per_unit'),\n",
    "    max('price_per_unit'),\n",
    "    avg('price_per_unit')\n",
    ").orderBy(\"country\",\"car\")\n",
    "salesdf2Agg.show()"
   ]
  },
  {
   "cell_type": "code",
   "execution_count": 87,
   "id": "2c221568",
   "metadata": {},
   "outputs": [
    {
     "name": "stdout",
     "output_type": "stream",
     "text": [
      "+-------+------+----------------+------------+\n",
      "|country|  week|sum(units_sales)|sum(revenue)|\n",
      "+-------+------+----------------+------------+\n",
      "| Brazil|Week_1|              59|     2628165|\n",
      "| Brazil|Week_2|              57|     2292588|\n",
      "| Brazil|Week_3|              20|      588736|\n",
      "| Brazil|Week_4|              49|     1578653|\n",
      "| Canada|Week_1|              60|     2616092|\n",
      "| Canada|Week_2|              95|     4494235|\n",
      "| Canada|Week_3|              26|      766523|\n",
      "| Canada|Week_4|              91|     3187940|\n",
      "| Mexico|Week_1|              53|     2017848|\n",
      "| Mexico|Week_2|              34|      901941|\n",
      "| Mexico|Week_3|              83|     2993657|\n",
      "| Mexico|Week_4|              85|     3325618|\n",
      "|    USA|Week_1|               5|      135135|\n",
      "|    USA|Week_2|              22|      794121|\n",
      "|    USA|Week_3|              82|     3466109|\n",
      "|    USA|Week_4|              62|     1854265|\n",
      "+-------+------+----------------+------------+\n",
      "\n"
     ]
    }
   ],
   "source": [
    "saleByCountryWeek = df1.groupBy(\"country\",\"week\").sum(\"units_sales\",\"revenue\").orderBy(\"country\",\"week\")\n",
    "saleByCountryWeek.show()"
   ]
  },
  {
   "cell_type": "code",
   "execution_count": null,
   "id": "ceb3375e",
   "metadata": {},
   "outputs": [],
   "source": []
  }
 ],
 "metadata": {
  "kernelspec": {
   "display_name": "Python 3 (ipykernel)",
   "language": "python",
   "name": "python3"
  },
  "language_info": {
   "codemirror_mode": {
    "name": "ipython",
    "version": 3
   },
   "file_extension": ".py",
   "mimetype": "text/x-python",
   "name": "python",
   "nbconvert_exporter": "python",
   "pygments_lexer": "ipython3",
   "version": "3.9.12"
  }
 },
 "nbformat": 4,
 "nbformat_minor": 5
}
