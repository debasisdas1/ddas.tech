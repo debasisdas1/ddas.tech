{
 "cells": [
  {
   "cell_type": "markdown",
   "id": "89d6d7b9",
   "metadata": {},
   "source": [
    "# Creating a Monoalphabetic Cipher"
   ]
  },
  {
   "cell_type": "code",
   "execution_count": 1,
   "id": "725ca56f",
   "metadata": {},
   "outputs": [
    {
     "name": "stdout",
     "output_type": "stream",
     "text": [
      "OZ OL Q HTKOGR GY EOCOS VQK. KTWTS LHQETLIOHL, LZKOAOFU YKGD Q IORRTF WQLT, \n",
      "IQCT VGF ZITOK YOKLZ COEZGKN QUQOFLZ ZIT TCOS UQSQEZOE TDHOKT. RXKOFU ZIT WQZZST, \n",
      "KTWTS LHOTL DQFQUTR ZG LZTQS LTEKTZ HSQFL ZG ZIT TDHOKT’L XSZODQZT VTQHGF, \n",
      "ZIT RTQZI LZQK, QFR LHQET LZQZOGF VOZI TFGXUI HGVTK ZG RTLZKGN QF TFZOKT HSQFTZ. \n",
      "HXKLXTR WN ZIT TDHOKT’L LOFOLZTK QUTFZL, \n",
      "HKOFETLL STOQ KQETL IGDT QWGQKR ITK LZQKLIOH, \n",
      "EXLZGROQF GY ZIT LZGSTF HSQFL ZIQZ EQF LQCT ITK HTGHST QFR KTLZGKT YKTTRGD ZG ZIT UQSQBN\n"
     ]
    }
   ],
   "source": [
    "plain_text = \"\"\"IT IS A PERIOD OF CIVIL WAR. REBEL SPACESHIPS, STRIKING FROM A HIDDEN BASE, \n",
    "HAVE WON THEIR FIRST VICTORY AGAINST THE EVIL GALACTIC EMPIRE. DURING THE BATTLE, \n",
    "REBEL SPIES MANAGED TO STEAL SECRET PLANS TO THE EMPIRE’S ULTIMATE WEAPON, \n",
    "THE DEATH STAR, AND SPACE STATION WITH ENOUGH POWER TO DESTROY AN ENTIRE PLANET. \n",
    "PURSUED BY THE EMPIRE’S SINISTER AGENTS, \n",
    "PRINCESS LEIA RACES HOME ABOARD HER STARSHIP, \n",
    "CUSTODIAN OF THE STOLEN PLANS THAT CAN SAVE HER PEOPLE AND RESTORE FREEDOM TO THE GALAXY\"\"\"\n",
    "\n",
    "original_letters   = \"ABCDEFGHIJKLMNOPQRSTUVWXYZ\"\n",
    "substitute_letters = \"QWERTYUIOPASDFGHJKLZXCVBNM\"\n",
    "\n",
    "# Now lets create the substitution cipher using mono-alphabetic cipher\n",
    "\n",
    "cipher_text = \"\"\n",
    "for char in plain_text:\n",
    "    if char in original_letters:\n",
    "        original_index = original_letters.index(char)\n",
    "        new_char = substitute_letters[original_index]\n",
    "        cipher_text = cipher_text + new_char\n",
    "    else:\n",
    "        cipher_text = cipher_text + char\n",
    "\n",
    "print(cipher_text)"
   ]
  },
  {
   "cell_type": "markdown",
   "id": "b47edbda",
   "metadata": {},
   "source": [
    "# Caesar Cipher"
   ]
  },
  {
   "cell_type": "code",
   "execution_count": 12,
   "id": "e5b42b8f",
   "metadata": {},
   "outputs": [
    {
     "name": "stdout",
     "output_type": "stream",
     "text": [
      "65\n",
      "97\n"
     ]
    }
   ],
   "source": [
    "print(ord('A'))\n",
    "print(ord('a'))\n",
    "\n",
    "\n",
    "def encrypt_caesar(text,shift_len):\n",
    "    cipher_text = \"\"\n",
    "    for char in text:\n",
    "        if char.isupper():\n",
    "            new_char = chr((ord(char) + shift_len - 65) % 26 + 65) \n",
    "            cipher_text += new_char\n",
    "        elif char.islower():\n",
    "            new_char = chr((ord(char) + shift_len - 97) % 26 + 97) \n",
    "            cipher_text += new_char        \n",
    "        else:\n",
    "            cipher_text += char\n",
    "    \n",
    "    return cipher_text\n",
    "\n"
   ]
  },
  {
   "cell_type": "code",
   "execution_count": 30,
   "id": "b8b813ca",
   "metadata": {},
   "outputs": [
    {
     "name": "stdout",
     "output_type": "stream",
     "text": [
      "ZBSXMOCC VOSK BKMOC RYWO KLYKBN ROB CDKBCRSZ\n",
      "shift length = -0 and plain text = ZBSXMOCC VOSK BKMOC RYWO KLYKBN ROB CDKBCRSZ\n",
      "shift length = -1 and plain text = YARWLNBB UNRJ AJLNB QXVN JKXJAM QNA BCJABQRY\n",
      "shift length = -2 and plain text = XZQVKMAA TMQI ZIKMA PWUM IJWIZL PMZ ABIZAPQX\n",
      "shift length = -3 and plain text = WYPUJLZZ SLPH YHJLZ OVTL HIVHYK OLY ZAHYZOPW\n",
      "shift length = -4 and plain text = VXOTIKYY RKOG XGIKY NUSK GHUGXJ NKX YZGXYNOV\n",
      "shift length = -5 and plain text = UWNSHJXX QJNF WFHJX MTRJ FGTFWI MJW XYFWXMNU\n",
      "shift length = -6 and plain text = TVMRGIWW PIME VEGIW LSQI EFSEVH LIV WXEVWLMT\n",
      "shift length = -7 and plain text = SULQFHVV OHLD UDFHV KRPH DERDUG KHU VWDUVKLS\n",
      "shift length = -8 and plain text = RTKPEGUU NGKC TCEGU JQOG CDQCTF JGT UVCTUJKR\n",
      "shift length = -9 and plain text = QSJODFTT MFJB SBDFT IPNF BCPBSE IFS TUBSTIJQ\n",
      "shift length = -10 and plain text = PRINCESS LEIA RACES HOME ABOARD HER STARSHIP\n",
      "shift length = -11 and plain text = OQHMBDRR KDHZ QZBDR GNLD ZANZQC GDQ RSZQRGHO\n",
      "shift length = -12 and plain text = NPGLACQQ JCGY PYACQ FMKC YZMYPB FCP QRYPQFGN\n",
      "shift length = -13 and plain text = MOFKZBPP IBFX OXZBP ELJB XYLXOA EBO PQXOPEFM\n",
      "shift length = -14 and plain text = LNEJYAOO HAEW NWYAO DKIA WXKWNZ DAN OPWNODEL\n",
      "shift length = -15 and plain text = KMDIXZNN GZDV MVXZN CJHZ VWJVMY CZM NOVMNCDK\n",
      "shift length = -16 and plain text = JLCHWYMM FYCU LUWYM BIGY UVIULX BYL MNULMBCJ\n",
      "shift length = -17 and plain text = IKBGVXLL EXBT KTVXL AHFX TUHTKW AXK LMTKLABI\n",
      "shift length = -18 and plain text = HJAFUWKK DWAS JSUWK ZGEW STGSJV ZWJ KLSJKZAH\n",
      "shift length = -19 and plain text = GIZETVJJ CVZR IRTVJ YFDV RSFRIU YVI JKRIJYZG\n",
      "shift length = -20 and plain text = FHYDSUII BUYQ HQSUI XECU QREQHT XUH IJQHIXYF\n",
      "shift length = -21 and plain text = EGXCRTHH ATXP GPRTH WDBT PQDPGS WTG HIPGHWXE\n",
      "shift length = -22 and plain text = DFWBQSGG ZSWO FOQSG VCAS OPCOFR VSF GHOFGVWD\n",
      "shift length = -23 and plain text = CEVAPRFF YRVN ENPRF UBZR NOBNEQ URE FGNEFUVC\n",
      "shift length = -24 and plain text = BDUZOQEE XQUM DMOQE TAYQ MNAMDP TQD EFMDETUB\n",
      "shift length = -25 and plain text = ACTYNPDD WPTL CLNPD SZXP LMZLCO SPC DELCDSTA\n"
     ]
    }
   ],
   "source": [
    "plain_text_1 = \"PRINCESS LEIA RACES HOME ABOARD HER STARSHIP\"\n",
    "caesar_cipher_text = encrypt_caesar(plain_text_1,10)\n",
    "print(caesar_cipher_text)\n",
    "\n",
    "# In the below approach we brute force the shift length\n",
    "for shift in range(0,26):\n",
    "    plain_text = encrypt_caesar(caesar_cipher_text,-shift)\n",
    "    print(f\"shift length = -{shift} and plain text = {plain_text}\")\n",
    "\n"
   ]
  },
  {
   "cell_type": "markdown",
   "id": "6725f51f",
   "metadata": {},
   "source": [
    "# Decrypting a Caesar Cipher using Letter Frequency Analysis"
   ]
  },
  {
   "cell_type": "code",
   "execution_count": 29,
   "id": "e5e34146",
   "metadata": {},
   "outputs": [
    {
     "name": "stdout",
     "output_type": "stream",
     "text": [
      "SD SC K ZOBSYN YP MSFSV GKB. BOLOV CZKMOCRSZC, CDBSUSXQ PBYW K RSNNOX LKCO, \n",
      "RKFO GYX DROSB PSBCD FSMDYBI KQKSXCD DRO OFSV QKVKMDSM OWZSBO. NEBSXQ DRO LKDDVO, \n",
      "BOLOV CZSOC WKXKQON DY CDOKV COMBOD ZVKXC DY DRO OWZSBO’C EVDSWKDO GOKZYX, \n",
      "DRO NOKDR CDKB, KXN CZKMO CDKDSYX GSDR OXYEQR ZYGOB DY NOCDBYI KX OXDSBO ZVKXOD. \n",
      "ZEBCEON LI DRO OWZSBO’C CSXSCDOB KQOXDC, \n",
      "ZBSXMOCC VOSK BKMOC RYWO KLYKBN ROB CDKBCRSZ, \n",
      "MECDYNSKX YP DRO CDYVOX ZVKXC DRKD MKX CKFO ROB ZOYZVO KXN BOCDYBO PBOONYW DY DRO QKVKHI\n"
     ]
    },
    {
     "data": {
      "image/png": "[encoded data removed]",
      "text/plain": [
       "<Figure size 1152x576 with 1 Axes>"
      ]
     },
     "metadata": {
      "needs_background": "light"
     },
     "output_type": "display_data"
    },
    {
     "name": "stdout",
     "output_type": "stream",
     "text": [
      "O\n",
      "10\n",
      "IT IS A PERIOD OF CIVIL WAR. REBEL SPACESHIPS, STRIKING FROM A HIDDEN BASE, \n",
      "HAVE WON THEIR FIRST VICTORY AGAINST THE EVIL GALACTIC EMPIRE. DURING THE BATTLE, \n",
      "REBEL SPIES MANAGED TO STEAL SECRET PLANS TO THE EMPIRE’S ULTIMATE WEAPON, \n",
      "THE DEATH STAR, AND SPACE STATION WITH ENOUGH POWER TO DESTROY AN ENTIRE PLANET. \n",
      "PURSUED BY THE EMPIRE’S SINISTER AGENTS, \n",
      "PRINCESS LEIA RACES HOME ABOARD HER STARSHIP, \n",
      "CUSTODIAN OF THE STOLEN PLANS THAT CAN SAVE HER PEOPLE AND RESTORE FREEDOM TO THE GALAXY\n"
     ]
    }
   ],
   "source": [
    "# This approach will work for high volume text where letter frequency will be similar to english text letter frequency\n",
    "import matplotlib.pyplot as plt\n",
    "\n",
    "plain_text = \"\"\"IT IS A PERIOD OF CIVIL WAR. REBEL SPACESHIPS, STRIKING FROM A HIDDEN BASE, \n",
    "HAVE WON THEIR FIRST VICTORY AGAINST THE EVIL GALACTIC EMPIRE. DURING THE BATTLE, \n",
    "REBEL SPIES MANAGED TO STEAL SECRET PLANS TO THE EMPIRE’S ULTIMATE WEAPON, \n",
    "THE DEATH STAR, AND SPACE STATION WITH ENOUGH POWER TO DESTROY AN ENTIRE PLANET. \n",
    "PURSUED BY THE EMPIRE’S SINISTER AGENTS, \n",
    "PRINCESS LEIA RACES HOME ABOARD HER STARSHIP, \n",
    "CUSTODIAN OF THE STOLEN PLANS THAT CAN SAVE HER PEOPLE AND RESTORE FREEDOM TO THE GALAXY\"\"\"\n",
    "caesar_cipher_text = encrypt_caesar(plain_text,10)\n",
    "print(caesar_cipher_text)\n",
    "\n",
    "cipher_letter_freq = {}\n",
    "for char in caesar_cipher_text:\n",
    "    if char in original_letters:\n",
    "        if char in cipher_letter_freq:\n",
    "            cipher_letter_freq[char] += 1\n",
    "        else:\n",
    "            cipher_letter_freq[char] = 1\n",
    "\n",
    "fig = plt.figure(figsize = (16, 8))        \n",
    "plt.bar(range(len(cipher_letter_freq)), list(cipher_letter_freq.values()), tick_label=list(cipher_letter_freq.keys()))\n",
    "plt.show()\n",
    "\n",
    "max_value = max(cipher_letter_freq, key=cipher_letter_freq.get)\n",
    "print(max_value)\n",
    "\n",
    "possible_shift = ord(max_value) - ord('E')\n",
    "print(possible_shift)\n",
    "\n",
    "possible_plain_text = encrypt_caesar(caesar_cipher_text,-possible_shift)\n",
    "print(possible_plain_text)\n"
   ]
  },
  {
   "cell_type": "code",
   "execution_count": null,
   "id": "854f645a",
   "metadata": {},
   "outputs": [],
   "source": []
  }
 ],
 "metadata": {
  "kernelspec": {
   "display_name": "Python 3 (ipykernel)",
   "language": "python",
   "name": "python3"
  },
  "language_info": {
   "codemirror_mode": {
    "name": "ipython",
    "version": 3
   },
   "file_extension": ".py",
   "mimetype": "text/x-python",
   "name": "python",
   "nbconvert_exporter": "python",
   "pygments_lexer": "ipython3",
   "version": "3.9.12"
  }
 },
 "nbformat": 4,
 "nbformat_minor": 5
}
