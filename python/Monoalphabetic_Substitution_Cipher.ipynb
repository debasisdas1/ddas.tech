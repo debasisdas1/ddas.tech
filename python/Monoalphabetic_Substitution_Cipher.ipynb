{
 "cells": [
  {
   "cell_type": "code",
   "execution_count": 3,
   "id": "2f24297a",
   "metadata": {},
   "outputs": [
    {
     "data": {
      "image/png": "[encoded data removed]",
      "text/plain": [
       "<Figure size 1152x576 with 1 Axes>"
      ]
     },
     "metadata": {
      "needs_background": "light"
     },
     "output_type": "display_data"
    }
   ],
   "source": [
    "import matplotlib.pyplot as plt\n",
    "# Relative frequency in english language\n",
    "# In text\n",
    "letter_freq_text = {\n",
    "    'A':8.2,\n",
    "    'B':1.5,\n",
    "    'C':2.8,\n",
    "    'D':4.3,\n",
    "    'E':13,\n",
    "    'F':2.2,\n",
    "    'G':2,\n",
    "    'H':6.1,\n",
    "    'I':7,\n",
    "    'J':0.15,\n",
    "    'K':0.77,\n",
    "    'L':4,\n",
    "    'M':2.4,\n",
    "    'N':6.7,\n",
    "    'O':7.5,\n",
    "    'P':1.9,\n",
    "    'Q':0.095,\n",
    "    'R':6,\n",
    "    'S':6.3,\n",
    "    'T':9.1,\n",
    "    'U':2.8,\n",
    "    'V':0.98,\n",
    "    'W':2.4,\n",
    "    'X':0.15,\n",
    "    'Y':2,\n",
    "    'Z':0.074\n",
    "}\n",
    "# In Dictionary\n",
    "fig = plt.figure(figsize = (16, 8))\n",
    "plt.bar(range(len(letter_freq_text)), list(letter_freq_text.values()), tick_label=list(letter_freq_text.keys()))\n",
    "plt.show()"
   ]
  },
  {
   "cell_type": "code",
   "execution_count": 11,
   "id": "89fa8256",
   "metadata": {},
   "outputs": [],
   "source": [
    "plain_text = \"\"\"IT IS A PERIOD OF CIVIL WAR. REBEL SPACESHIPS, STRIKING FROM A HIDDEN BASE, \n",
    "HAVE WON THEIR FIRST VICTORY AGAINST THE EVIL GALACTIC EMPIRE. DURING THE BATTLE, \n",
    "REBEL SPIES MANAGED TO STEAL SECRET PLANS TO THE EMPIRE’S ULTIMATE WEAPON, \n",
    "THE DEATH STAR, AND SPACE STATION WITH ENOUGH POWER TO DESTROY AN ENTIRE PLANET. \n",
    "PURSUED BY THE EMPIRE’S SINISTER AGENTS, \n",
    "PRINCESS LEIA RACES HOME ABOARD HER STARSHIP, \n",
    "CUSTODIAN OF THE STOLEN PLANS THAT CAN SAVE HER PEOPLE AND RESTORE FREEDOM TO THE GALAXY\"\"\""
   ]
  },
  {
   "cell_type": "code",
   "execution_count": 25,
   "id": "f4f4a308",
   "metadata": {},
   "outputs": [
    {
     "name": "stdout",
     "output_type": "stream",
     "text": [
      "OZ OL Q HTKOGR GY EOCOS VQK. KTWTS LHQETLIOHL, LZKOAOFU YKGD Q IORRTF WQLT, \n",
      "IQCT VGF ZITOK YOKLZ COEZGKN QUQOFLZ ZIT TCOS UQSQEZOE TDHOKT. RXKOFU ZIT WQZZST, \n",
      "KTWTS LHOTL DQFQUTR ZG LZTQS LTEKTZ HSQFL ZG ZIT TDHOKT’L XSZODQZT VTQHGF, \n",
      "ZIT RTQZI LZQK, QFR LHQET LZQZOGF VOZI TFGXUI HGVTK ZG RTLZKGN QF TFZOKT HSQFTZ. \n",
      "HXKLXTR WN ZIT TDHOKT’L LOFOLZTK QUTFZL, \n",
      "HKOFETLL STOQ KQETL IGDT QWGQKR ITK LZQKLIOH, \n",
      "EXLZGROQF GY ZIT LZGSTF HSQFL ZIQZ EQF LQCT ITK HTGHST QFR KTLZGKT YKTTRGD ZG ZIT UQSQBN\n"
     ]
    }
   ],
   "source": [
    "original_letters   = \"ABCDEFGHIJKLMNOPQRSTUVWXYZ\"\n",
    "substitute_letters = \"QWERTYUIOPASDFGHJKLZXCVBNM\"\n",
    "\n",
    "# Now lets create the substitution cipher using mono-alphabetic cipher\n",
    "\n",
    "cipher_text = \"\"\n",
    "for char in plain_text:\n",
    "    if char in original_letters:\n",
    "        original_index = original_letters.index(char)\n",
    "        new_char = substitute_letters[original_index]\n",
    "        cipher_text = cipher_text + new_char\n",
    "    else:\n",
    "        cipher_text = cipher_text + char\n",
    "\n",
    "print(cipher_text)"
   ]
  },
  {
   "cell_type": "code",
   "execution_count": 49,
   "id": "5ee1e2b7",
   "metadata": {},
   "outputs": [
    {
     "name": "stdout",
     "output_type": "stream",
     "text": [
      "{'O': 30, 'Z': 40, 'L': 33, 'Q': 38, 'H': 18, 'T': 57, 'K': 29, 'G': 22, 'R': 13, 'Y': 5, 'E': 11, 'C': 5, 'S': 15, 'V': 5, 'W': 6, 'I': 19, 'A': 1, 'F': 22, 'U': 8, 'D': 8, 'N': 4, 'X': 6, 'B': 1}\n"
     ]
    },
    {
     "data": {
      "image/png": "[encoded data removed]",
      "text/plain": [
       "<Figure size 1152x576 with 1 Axes>"
      ]
     },
     "metadata": {
      "needs_background": "light"
     },
     "output_type": "display_data"
    }
   ],
   "source": [
    "# Now we have the cipher text\n",
    "# Lets do a letter frequency analysis\n",
    "cipher_text = \"\"\"\n",
    "OZ OL Q HTKOGR GY EOCOS VQK. KTWTS LHQETLIOHL, LZKOAOFU YKGD Q IORRTF WQLT, \n",
    "IQCT VGF ZITOK YOKLZ COEZGKN QUQOFLZ ZIT TCOS UQSQEZOE TDHOKT. RXKOFU ZIT WQZZST, \n",
    "KTWTS LHOTL DQFQUTR ZG LZTQS LTEKTZ HSQFL ZG ZIT TDHOKT’L XSZODQZT VTQHGF, \n",
    "ZIT RTQZI LZQK, QFR LHQET LZQZOGF VOZI TFGXUI HGVTK ZG RTLZKGN QF TFZOKT HSQFTZ. \n",
    "HXKLXTR WN ZIT TDHOKT’L LOFOLZTK QUTFZL, \n",
    "HKOFETLL STOQ KQETL IGDT QWGQKR ITK LZQKLIOH, \n",
    "EXLZGROQF GY ZIT LZGSTF HSQFL ZIQZ EQF LQCT ITK HTGHST QFR KTLZGKT YKTTRGD ZG ZIT UQSQBN\n",
    "\"\"\"\n",
    "cipher_letter_freq = {}\n",
    "for char in cipher_text:\n",
    "    if char in original_letters:\n",
    "        if char in cipher_letter_freq:\n",
    "            cipher_letter_freq[char] += 1\n",
    "        else:\n",
    "            cipher_letter_freq[char] = 1\n",
    "\n",
    "fig = plt.figure(figsize = (16, 8))        \n",
    "plt.bar(range(len(cipher_letter_freq)), list(cipher_letter_freq.values()), tick_label=list(cipher_letter_freq.keys()))\n",
    "plt.show()"
   ]
  },
  {
   "cell_type": "code",
   "execution_count": 50,
   "id": "6ecb1539",
   "metadata": {},
   "outputs": [
    {
     "name": "stdout",
     "output_type": "stream",
     "text": [
      "\n",
      "OZ OL Q HTKOGR GY EOCOS VQK. KTWTS LHQETLIOHL, LZKOAOFU YKGD Q IORRTF WQLT, \n",
      "IQCT VGF ZITOK YOKLZ COEZGKN QUQOFLZ ZIT TCOS UQSQEZOE TDHOKT. RXKOFU ZIT WQZZST, \n",
      "KTWTS LHOTL DQFQUTR ZG LZTQS LTEKTZ HSQFL ZG ZIT TDHOKT’L XSZODQZT VTQHGF, \n",
      "ZIT RTQZI LZQK, QFR LHQET LZQZOGF VOZI TFGXUI HGVTK ZG RTLZKGN QF TFZOKT HSQFTZ. \n",
      "HXKLXTR WN ZIT TDHOKT’L LOFOLZTK QUTFZL, \n",
      "HKOFETLL STOQ KQETL IGDT QWGQKR ITK LZQKLIOH, \n",
      "EXLZGROQF GY ZIT LZGSTF HSQFL ZIQZ EQF LQCT ITK HTGHST QFR KTLZGKT YKTTRGD ZG ZIT UQSQBN\n",
      "\n",
      "\n",
      "-- -- - ------ -- ----- ---. ----- ----------, -------- ---- - ------ ----, \n",
      "---- --- ----- ----- ------- ------- --- ---- -------- ------. ------ --- ------, \n",
      "----- ----- ------- -- ----- ------ ----- -- --- ------’- -------- ------, \n",
      "--- ----- ----, --- ----- ------- ---- ------ ----- -- ------- -- ------ ------. \n",
      "------- -- --- ------’- -------- ------, \n",
      "-------- ---- ----- ---- ------ --- --------, \n",
      "--------- -- --- ------ ----- ---- --- ---- --- ------ --- ------- ------- -- --- ------\n",
      "\n"
     ]
    }
   ],
   "source": [
    "\n",
    "temp_text = cipher_text\n",
    "for item in original_letters:\n",
    "    temp_text = temp_text.replace(item,'-')\n",
    "\n",
    "print(cipher_text)\n",
    "print(temp_text)\n"
   ]
  },
  {
   "cell_type": "code",
   "execution_count": 51,
   "id": "2525a726",
   "metadata": {},
   "outputs": [
    {
     "name": "stdout",
     "output_type": "stream",
     "text": [
      "\n",
      "-T -- A -E---- -- ----- -A-. -E-E- --A-E-----, -T------ ---- A ----E- -A-E, \n",
      "-A-E --- T-E-- ----T ---T--- A-A---T T-E E--- -A-A-T-- E----E. ------ T-E -ATT-E, \n",
      "-E-E- ---E- -A-A-E- T- -TEA- -E--ET --A-- T- T-E E----E’- --T--ATE -EA---, \n",
      "T-E -EAT- -TA-, A-- --A-E -TAT--- --T- E----- ---E- T- -E-T--- A- E-T--E --A-ET. \n",
      "-----E- -- T-E E----E’- -----TE- A-E-T-, \n",
      "-----E-- -E-A -A-E- ---E A--A-- -E- -TA-----, \n",
      "---T---A- -- T-E -T--E- --A-- T-AT -A- -A-E -E- -E---E A-- -E-T--E --EE--- T- T-E -A-A--\n",
      "\n"
     ]
    }
   ],
   "source": [
    "\n",
    "temp_text_arr = list(temp_text)\n",
    "for index,item in enumerate(cipher_text):\n",
    "# From the Cipher Text Letter Frequency Analysis it 'T' is the most frequently used letter # T should correspond to E\n",
    "    if item == 'T':\n",
    "        temp_text_arr[index] = 'E'\n",
    "# We see there is a single letter occurence and most probably it is going to be A\n",
    "    if item == 'Q': \n",
    "        temp_text_arr[index] = 'A'\n",
    "\n",
    "# Second most frequent letter in Text is T and in the cipher is Z, Lets replace Z with T and see\n",
    "    if item == 'Z': \n",
    "        temp_text_arr[index] = 'T'\n",
    "\n",
    "\n",
    "final_plain_text = \"\".join(temp_text_arr)\n",
    "print(final_plain_text)"
   ]
  },
  {
   "cell_type": "code",
   "execution_count": 52,
   "id": "3a3c9d48",
   "metadata": {},
   "outputs": [
    {
     "name": "stdout",
     "output_type": "stream",
     "text": [
      "\n",
      "-T -- A -E--O- O- ----- -A-. -E-E- --A-E-H---, -T------ --O- A H---E- -A-E, \n",
      "HA-E -O- THE-- ----T ---TO-- A-A---T THE E--- -A-A-T-- E----E. ------ THE -ATT-E, \n",
      "-E-E- ---E- -A-A-E- TO -TEA- -E--ET --A-- TO THE E----E’- --T--ATE -EA-O-, \n",
      "THE -EATH -TA-, A-- --A-E -TAT-O- --TH E-O--H -O-E- TO -E-T-O- A- E-T--E --A-ET. \n",
      "-----E- -- THE E----E’- -----TE- A-E-T-, \n",
      "-----E-- -E-A -A-E- HO-E A-OA-- HE- -TA--H--, \n",
      "---TO--A- O- THE -TO-E- --A-- THAT -A- -A-E HE- -EO--E A-- -E-TO-E --EE-O- TO THE -A-A--\n",
      "\n"
     ]
    }
   ],
   "source": [
    "# So far we have replaced three letter and things look positive\n",
    "\n",
    "# from the cryptanlysis that we have done so far looks like T* is probably TO\n",
    "# T*E is probably THE\n",
    "\n",
    "temp_text_arr = list(final_plain_text)\n",
    "for index,item in enumerate(cipher_text):\n",
    "    if item == 'G':\n",
    "        temp_text_arr[index] = 'O'\n",
    "    if item == 'I':\n",
    "        temp_text_arr[index] = 'H'\n",
    "\n",
    "\n",
    "fpt1 = \"\".join(temp_text_arr)\n",
    "print(fpt1)"
   ]
  },
  {
   "cell_type": "code",
   "execution_count": 53,
   "id": "330712bf",
   "metadata": {},
   "outputs": [
    {
     "name": "stdout",
     "output_type": "stream",
     "text": [
      "\n",
      "OZ OL Q HTKOGR GY EOCOS VQK. KTWTS LHQETLIOHL, LZKOAOFU YKGD Q IORRTF WQLT, \n",
      "IQCT VGF ZITOK YOKLZ COEZGKN QUQOFLZ ZIT TCOS UQSQEZOE TDHOKT. RXKOFU ZIT WQZZST, \n",
      "KTWTS LHOTL DQFQUTR ZG LZTQS LTEKTZ HSQFL ZG ZIT TDHOKT’L XSZODQZT VTQHGF, \n",
      "ZIT RTQZI LZQK, QFR LHQET LZQZOGF VOZI TFGXUI HGVTK ZG RTLZKGN QF TFZOKT HSQFTZ. \n",
      "HXKLXTR WN ZIT TDHOKT’L LOFOLZTK QUTFZL, \n",
      "HKOFETLL STOQ KQETL IGDT QWGQKR ITK LZQKLIOH, \n",
      "EXLZGROQF GY ZIT LZGSTF HSQFL ZIQZ EQF LQCT ITK HTGHST QFR KTLZGKT YKTTRGD ZG ZIT UQSQBN\n",
      "\n"
     ]
    }
   ],
   "source": [
    "print(cipher_text)"
   ]
  },
  {
   "cell_type": "code",
   "execution_count": 54,
   "id": "45f3662b",
   "metadata": {},
   "outputs": [
    {
     "name": "stdout",
     "output_type": "stream",
     "text": [
      "\n",
      "IT IS A -ERIOD O- -IVI- -AR. RE-E- S-A-ESHI-S, STRI-I-- -ROM A HIDDE- -ASE, \n",
      "HAVE -O- THEIR -IRST VI-TOR- A-AI-ST THE EVI- -A-A-TI- EM-IRE. D-RI-- THE -ATT-E, \n",
      "RE-E- S-IES MA-A-ED TO STEA- SE-RET --A-S TO THE EM-IRE’S --TIMATE -EA-O-, \n",
      "THE DEATH STAR, A-D S-A-E STATIO- -ITH E-O--H -O-ER TO DESTRO- A- E-TIRE --A-ET. \n",
      "--RS-ED -- THE EM-IRE’S SI-ISTER A-E-TS, \n",
      "-RI--ESS -EIA RA-ES HOME A-OARD HER STARSHI-, \n",
      "--STODIA- O- THE STO-E- --A-S THAT -A- SAVE HER -EO--E A-D RESTORE -REEDOM TO THE -A-A--\n",
      "\n"
     ]
    }
   ],
   "source": [
    "# Lets review the above text \n",
    "# HA*E -> HAVE?\n",
    "# THE** -> THEIR, THERE, THESE ??\n",
    "# HO*E -> HOME, HONE?\n",
    "# HE* -> HER?\n",
    "# *EATH -> DEATH?\n",
    "# A** -> AND?\n",
    "# O* -> OF vs ON?\n",
    "\n",
    "temp_text_arr = list(fpt1)\n",
    "for index,item in enumerate(cipher_text):\n",
    "    if item == 'C':\n",
    "        temp_text_arr[index] = 'V'\n",
    "    if item == 'R':\n",
    "        temp_text_arr[index] = 'D'\n",
    "    if item == 'D':\n",
    "        temp_text_arr[index] = 'M'\n",
    "    if item == 'K':\n",
    "        temp_text_arr[index] = 'R'\n",
    "    if item == 'L':\n",
    "        temp_text_arr[index] = 'S'\n",
    "    if item == 'O':\n",
    "        temp_text_arr[index] = 'I'\n",
    "\n",
    "\n",
    "\n",
    "fpt2 = \"\".join(temp_text_arr)\n",
    "print(fpt2)"
   ]
  },
  {
   "cell_type": "code",
   "execution_count": null,
   "id": "59979b4d",
   "metadata": {},
   "outputs": [],
   "source": [
    "# IT IS A PERIOD OF CIVIL WAR. REBEL SPACESHIPS, STRIKING FROM A HIDDEN BASE, \n",
    "# HAVE WON THEIR FIRST VICTORY AGAINST THE EVIL GALACTIC EMPIRE. DURING THE BATTLE, \n",
    "# REBEL SPIES MANAGED TO STEAL SECRET PLANS TO THE EMPIRE’S ULTIMATE WEAPON, \n",
    "# THE DEATH STAR, AND SPACE STATION WITH ENOUGH POWER TO DESTROY AN ENTIRE PLANET. \n",
    "# PURSUED BY THE EMPIRE’S SINISTER AGENTS, \n",
    "# PRINCESS LEIA RACES HOME ABOARD HER STARSHIP, \n",
    "# CUSTODIAN OF THE STOLEN PLANS THAT CAN SAVE HER PEOPLE AND RESTORE FREEDOM TO THE GALAXY"
   ]
  }
 ],
 "metadata": {
  "kernelspec": {
   "display_name": "Python 3 (ipykernel)",
   "language": "python",
   "name": "python3"
  },
  "language_info": {
   "codemirror_mode": {
    "name": "ipython",
    "version": 3
   },
   "file_extension": ".py",
   "mimetype": "text/x-python",
   "name": "python",
   "nbconvert_exporter": "python",
   "pygments_lexer": "ipython3",
   "version": "3.9.12"
  }
 },
 "nbformat": 4,
 "nbformat_minor": 5
}
